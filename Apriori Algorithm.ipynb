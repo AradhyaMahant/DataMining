{
 "cells": [
  {
   "cell_type": "code",
   "execution_count": 5,
   "metadata": {},
   "outputs": [],
   "source": [
    "import pandas as pds"
   ]
  },
  {
   "cell_type": "code",
   "execution_count": 60,
   "metadata": {},
   "outputs": [],
   "source": [
    "data = {'T100' : [\"I1\",'I2','I5','0'] , 'T200':['I2','I4','0' ,'0'] , 'T300' : ['I2','I3','0','0'] , 'T400' : [\"I1\",\"I2\",\"I4\",'0'],'T500':['I1','I3','0','0'],'T600':['I2','I3','0','0'],'T700':[\"I1\",\"I3\",'0','0'], \"T800\":[\"I1\",\"I2\",\"I3\",\"I5\"],\"T900\":[\"I1\",\"I2\",\"I3\",'0']}"
   ]
  },
  {
   "cell_type": "code",
   "execution_count": 61,
   "metadata": {},
   "outputs": [],
   "source": [
    "df = pd.DataFrame(data = data)"
   ]
  },
  {
   "cell_type": "code",
   "execution_count": 62,
   "metadata": {},
   "outputs": [
    {
     "data": {
      "text/html": [
       "<div>\n",
       "<style scoped>\n",
       "    .dataframe tbody tr th:only-of-type {\n",
       "        vertical-align: middle;\n",
       "    }\n",
       "\n",
       "    .dataframe tbody tr th {\n",
       "        vertical-align: top;\n",
       "    }\n",
       "\n",
       "    .dataframe thead th {\n",
       "        text-align: right;\n",
       "    }\n",
       "</style>\n",
       "<table border=\"1\" class=\"dataframe\">\n",
       "  <thead>\n",
       "    <tr style=\"text-align: right;\">\n",
       "      <th></th>\n",
       "      <th>T100</th>\n",
       "      <th>T200</th>\n",
       "      <th>T300</th>\n",
       "      <th>T400</th>\n",
       "      <th>T500</th>\n",
       "      <th>T600</th>\n",
       "      <th>T700</th>\n",
       "      <th>T800</th>\n",
       "      <th>T900</th>\n",
       "    </tr>\n",
       "  </thead>\n",
       "  <tbody>\n",
       "    <tr>\n",
       "      <th>0</th>\n",
       "      <td>I1</td>\n",
       "      <td>I2</td>\n",
       "      <td>I2</td>\n",
       "      <td>I1</td>\n",
       "      <td>I1</td>\n",
       "      <td>I2</td>\n",
       "      <td>I1</td>\n",
       "      <td>I1</td>\n",
       "      <td>I1</td>\n",
       "    </tr>\n",
       "    <tr>\n",
       "      <th>1</th>\n",
       "      <td>I2</td>\n",
       "      <td>I4</td>\n",
       "      <td>I3</td>\n",
       "      <td>I2</td>\n",
       "      <td>I3</td>\n",
       "      <td>I3</td>\n",
       "      <td>I3</td>\n",
       "      <td>I2</td>\n",
       "      <td>I2</td>\n",
       "    </tr>\n",
       "    <tr>\n",
       "      <th>2</th>\n",
       "      <td>I5</td>\n",
       "      <td>0</td>\n",
       "      <td>0</td>\n",
       "      <td>I4</td>\n",
       "      <td>0</td>\n",
       "      <td>0</td>\n",
       "      <td>0</td>\n",
       "      <td>I3</td>\n",
       "      <td>I3</td>\n",
       "    </tr>\n",
       "    <tr>\n",
       "      <th>3</th>\n",
       "      <td>0</td>\n",
       "      <td>0</td>\n",
       "      <td>0</td>\n",
       "      <td>0</td>\n",
       "      <td>0</td>\n",
       "      <td>0</td>\n",
       "      <td>0</td>\n",
       "      <td>I5</td>\n",
       "      <td>0</td>\n",
       "    </tr>\n",
       "  </tbody>\n",
       "</table>\n",
       "</div>"
      ],
      "text/plain": [
       "  T100 T200 T300 T400 T500 T600 T700 T800 T900\n",
       "0   I1   I2   I2   I1   I1   I2   I1   I1   I1\n",
       "1   I2   I4   I3   I2   I3   I3   I3   I2   I2\n",
       "2   I5    0    0   I4    0    0    0   I3   I3\n",
       "3    0    0    0    0    0    0    0   I5    0"
      ]
     },
     "execution_count": 62,
     "metadata": {},
     "output_type": "execute_result"
    }
   ],
   "source": [
    "df"
   ]
  },
  {
   "cell_type": "code",
   "execution_count": 100,
   "metadata": {},
   "outputs": [],
   "source": [
    "min_support = 2"
   ]
  },
  {
   "cell_type": "code",
   "execution_count": 64,
   "metadata": {},
   "outputs": [],
   "source": [
    "I1_count = 0\n",
    "I2_count = 0 \n",
    "I3_count = 0 \n",
    "I4_count = 0 \n",
    "I5_count = 0 "
   ]
  },
  {
   "cell_type": "code",
   "execution_count": 65,
   "metadata": {},
   "outputs": [
    {
     "name": "stdout",
     "output_type": "stream",
     "text": [
      "6\n"
     ]
    }
   ],
   "source": [
    "for i in df[\"T100\"].values:\n",
    "    if(\"I1\" in i):\n",
    "        I1_count += 1\n",
    "        \n",
    "for i in df[\"T200\"].values:\n",
    "    if(\"I1\" in i):\n",
    "        I1_count += 1\n",
    "for i in df[\"T300\"].values:\n",
    "    if(\"I1\" in i):\n",
    "        I1_count += 1\n",
    "for i in df[\"T400\"].values:\n",
    "    if(\"I1\" in i):\n",
    "        I1_count += 1\n",
    "for i in df[\"T500\"].values:\n",
    "    if(\"I1\" in i):\n",
    "        I1_count += 1\n",
    "for i in df[\"T600\"].values:\n",
    "    if(\"I1\" in i):\n",
    "        I1_count += 1\n",
    "for i in df[\"T700\"].values:\n",
    "    if(\"I1\" in i):\n",
    "        I1_count += 1\n",
    "for i in df[\"T800\"].values:\n",
    "    if(\"I1\" in i):\n",
    "        I1_count += 1\n",
    "        \n",
    "for i in df[\"T900\"].values:\n",
    "    if(\"I1\" in i):\n",
    "        I1_count += 1\n",
    "print(I1_count)"
   ]
  },
  {
   "cell_type": "code",
   "execution_count": 70,
   "metadata": {},
   "outputs": [
    {
     "name": "stdout",
     "output_type": "stream",
     "text": [
      "7\n"
     ]
    }
   ],
   "source": [
    "for i in df[\"T100\"].values:\n",
    "    if(\"I2\" in i):\n",
    "        I2_count += 1\n",
    "        \n",
    "for i in df[\"T200\"].values:\n",
    "    if(\"I2\" in i):\n",
    "        I2_count += 1\n",
    "for i in df[\"T300\"].values:\n",
    "    if(\"I2\" in i):\n",
    "        I2_count += 1\n",
    "for i in df[\"T400\"].values:\n",
    "    if(\"I2\" in i):\n",
    "        I2_count += 1\n",
    "for i in df[\"T500\"].values:\n",
    "    if(\"I2\" in i):\n",
    "        I2_count += 1\n",
    "for i in df[\"T600\"].values:\n",
    "    if(\"I2\" in i):\n",
    "        I2_count += 1\n",
    "for i in df[\"T700\"].values:\n",
    "    if(\"I2\" in i):\n",
    "        I2_count += 1\n",
    "for i in df[\"T800\"].values:\n",
    "    if(\"I2\" in i):\n",
    "        I2_count += 1\n",
    "        \n",
    "for i in df[\"T900\"].values:\n",
    "    if(\"I2\" in i):\n",
    "        I2_count += 1\n",
    "print(I2_count)"
   ]
  },
  {
   "cell_type": "code",
   "execution_count": 66,
   "metadata": {},
   "outputs": [
    {
     "name": "stdout",
     "output_type": "stream",
     "text": [
      "6\n"
     ]
    }
   ],
   "source": [
    "for i in df[\"T100\"].values:\n",
    "    if(\"I3\" in i):\n",
    "        I3_count += 1\n",
    "        \n",
    "for i in df[\"T200\"].values:\n",
    "    if(\"I3\" in i):\n",
    "        I3_count += 1\n",
    "for i in df[\"T300\"].values:\n",
    "    if(\"I3\" in i):\n",
    "        I3_count += 1\n",
    "for i in df[\"T400\"].values:\n",
    "    if(\"I3\" in i):\n",
    "        I3_count += 1\n",
    "for i in df[\"T500\"].values:\n",
    "    if(\"I3\" in i):\n",
    "        I3_count += 1\n",
    "for i in df[\"T600\"].values:\n",
    "    if(\"I3\" in i):\n",
    "        I3_count += 1\n",
    "for i in df[\"T700\"].values:\n",
    "    if(\"I3\" in i):\n",
    "        I3_count += 1\n",
    "for i in df[\"T800\"].values:\n",
    "    if(\"I3\" in i):\n",
    "        I3_count += 1\n",
    "        \n",
    "for i in df[\"T900\"].values:\n",
    "    if(\"I3\" in i):\n",
    "        I3_count += 1\n",
    "print(I3_count)"
   ]
  },
  {
   "cell_type": "code",
   "execution_count": 67,
   "metadata": {},
   "outputs": [
    {
     "name": "stdout",
     "output_type": "stream",
     "text": [
      "2\n"
     ]
    }
   ],
   "source": [
    "for i in df[\"T100\"].values:\n",
    "    if(\"I4\" in i):\n",
    "        I4_count += 1\n",
    "        \n",
    "for i in df[\"T200\"].values:\n",
    "    if(\"I4\" in i):\n",
    "        I4_count += 1\n",
    "for i in df[\"T300\"].values:\n",
    "    if(\"I4\" in i):\n",
    "        I4_count += 1\n",
    "for i in df[\"T400\"].values:\n",
    "    if(\"I4\" in i):\n",
    "        I4_count += 1\n",
    "for i in df[\"T500\"].values:\n",
    "    if(\"I4\" in i):\n",
    "        I4_count += 1\n",
    "for i in df[\"T600\"].values:\n",
    "    if(\"I4\" in i):\n",
    "        I4_count += 1\n",
    "for i in df[\"T700\"].values:\n",
    "    if(\"I4\" in i):\n",
    "        I4_count += 1\n",
    "for i in df[\"T800\"].values:\n",
    "    if(\"I4\" in i):\n",
    "        I4_count += 1\n",
    "        \n",
    "for i in df[\"T900\"].values:\n",
    "    if(\"I4\" in i):\n",
    "        I4_count += 1\n",
    "print(I4_count)"
   ]
  },
  {
   "cell_type": "code",
   "execution_count": 68,
   "metadata": {},
   "outputs": [
    {
     "name": "stdout",
     "output_type": "stream",
     "text": [
      "2\n"
     ]
    }
   ],
   "source": [
    "for i in df[\"T100\"].values:\n",
    "    if(\"I5\" in i):\n",
    "        I5_count += 1\n",
    "        \n",
    "for i in df[\"T200\"].values:\n",
    "    if(\"I5\" in i):\n",
    "        I5_count += 1\n",
    "for i in df[\"T300\"].values:\n",
    "    if(\"I5\" in i):\n",
    "        I5_count += 1\n",
    "for i in df[\"T400\"].values:\n",
    "    if(\"I5\" in i):\n",
    "        I5_count += 1\n",
    "for i in df[\"T500\"].values:\n",
    "    if(\"I5\" in i):\n",
    "        I5_count += 1\n",
    "for i in df[\"T600\"].values:\n",
    "    if(\"I5\" in i):\n",
    "        I5_count += 1\n",
    "for i in df[\"T700\"].values:\n",
    "    if(\"I5\" in i):\n",
    "        I5_count += 1\n",
    "for i in df[\"T800\"].values:\n",
    "    if(\"I5\" in i):\n",
    "        I5_count += 1\n",
    "        \n",
    "for i in df[\"T900\"].values:\n",
    "    if(\"I5\" in i):\n",
    "        I5_count += 1\n",
    "print(I5_count)"
   ]
  },
  {
   "cell_type": "code",
   "execution_count": 71,
   "metadata": {},
   "outputs": [
    {
     "data": {
      "text/html": [
       "<div>\n",
       "<style scoped>\n",
       "    .dataframe tbody tr th:only-of-type {\n",
       "        vertical-align: middle;\n",
       "    }\n",
       "\n",
       "    .dataframe tbody tr th {\n",
       "        vertical-align: top;\n",
       "    }\n",
       "\n",
       "    .dataframe thead th {\n",
       "        text-align: right;\n",
       "    }\n",
       "</style>\n",
       "<table border=\"1\" class=\"dataframe\">\n",
       "  <thead>\n",
       "    <tr style=\"text-align: right;\">\n",
       "      <th></th>\n",
       "      <th>Itemset</th>\n",
       "      <th>Supp_count</th>\n",
       "    </tr>\n",
       "  </thead>\n",
       "  <tbody>\n",
       "    <tr>\n",
       "      <th>0</th>\n",
       "      <td>I1</td>\n",
       "      <td>6</td>\n",
       "    </tr>\n",
       "    <tr>\n",
       "      <th>1</th>\n",
       "      <td>I2</td>\n",
       "      <td>7</td>\n",
       "    </tr>\n",
       "    <tr>\n",
       "      <th>2</th>\n",
       "      <td>I3</td>\n",
       "      <td>6</td>\n",
       "    </tr>\n",
       "    <tr>\n",
       "      <th>3</th>\n",
       "      <td>I4</td>\n",
       "      <td>2</td>\n",
       "    </tr>\n",
       "    <tr>\n",
       "      <th>4</th>\n",
       "      <td>I5</td>\n",
       "      <td>2</td>\n",
       "    </tr>\n",
       "  </tbody>\n",
       "</table>\n",
       "</div>"
      ],
      "text/plain": [
       "  Itemset  Supp_count\n",
       "0      I1           6\n",
       "1      I2           7\n",
       "2      I3           6\n",
       "3      I4           2\n",
       "4      I5           2"
      ]
     },
     "execution_count": 71,
     "metadata": {},
     "output_type": "execute_result"
    }
   ],
   "source": [
    "iteration1 = {\"Itemset\" : [\"I1\" ,\"I2\" ,\"I3\",\"I4\" ,\"I5\"] , \"Supp_count\":[I1_count , I2_count , I3_count , I4_count , I5_count]}\n",
    "iteration1 = pd.DataFrame(data = _1st_iteration)\n",
    "iteration1"
   ]
  },
  {
   "cell_type": "code",
   "execution_count": 102,
   "metadata": {},
   "outputs": [
    {
     "name": "stdout",
     "output_type": "stream",
     "text": [
      "  Itemset  Supp_count\n",
      "0      I1           6\n",
      "1      I2           7\n",
      "2      I3           6\n",
      "3      I4           2\n",
      "4      I5           2\n"
     ]
    }
   ],
   "source": [
    "for i in range(len(iteration1)):\n",
    "    if(iteration1.values[i][1] < min_support):\n",
    "        iteration1.drop([iteration1.values[i][1]] , axis = 0 )\n",
    "print(iteration1)\n"
   ]
  }
 ],
 "metadata": {
  "kernelspec": {
   "display_name": "Python 3",
   "language": "python",
   "name": "python3"
  },
  "language_info": {
   "codemirror_mode": {
    "name": "ipython",
    "version": 3
   },
   "file_extension": ".py",
   "mimetype": "text/x-python",
   "name": "python",
   "nbconvert_exporter": "python",
   "pygments_lexer": "ipython3",
   "version": "3.8.3"
  }
 },
 "nbformat": 4,
 "nbformat_minor": 4
}
